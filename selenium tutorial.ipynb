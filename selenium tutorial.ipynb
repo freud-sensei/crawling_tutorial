{
 "cells": [
  {
   "cell_type": "markdown",
   "metadata": {},
   "source": [
    "# 패키지 불러오기"
   ]
  },
  {
   "cell_type": "code",
   "execution_count": 10,
   "metadata": {},
   "outputs": [],
   "source": [
    "from selenium import webdriver\n",
    "from selenium.webdriver.common.keys import Keys\n",
    "from selenium.webdriver.common.by import By\n",
    "import time"
   ]
  },
  {
   "cell_type": "markdown",
   "metadata": {},
   "source": [
    "# 크롬 실행"
   ]
  },
  {
   "cell_type": "code",
   "execution_count": 2,
   "metadata": {},
   "outputs": [],
   "source": [
    "# 크롬 드라이버 실행\n",
    "driver = webdriver.Chrome()\n",
    "driver.get(\"https://www.google.co.kr\")\n",
    "time.sleep(3)"
   ]
  },
  {
   "cell_type": "markdown",
   "metadata": {},
   "source": [
    "# 화면 조작하기"
   ]
  },
  {
   "cell_type": "code",
   "execution_count": 4,
   "metadata": {},
   "outputs": [],
   "source": [
    "driver = webdriver.Chrome()\n",
    "driver.get(\"https://www.google.com\")\n",
    "time.sleep(3)\n",
    "search_box = driver.find_element(\"xpath\", '//*[@id=\"APjFqb\"]')\n"
   ]
  },
  {
   "cell_type": "code",
   "execution_count": 5,
   "metadata": {},
   "outputs": [],
   "source": [
    "search_box.send_keys(\"서울대학교 수강신청\")\n",
    "search_box.send_keys(Keys.RETURN)\n",
    "time.sleep(1)"
   ]
  },
  {
   "cell_type": "code",
   "execution_count": 9,
   "metadata": {},
   "outputs": [],
   "source": [
    "search_box = driver.find_element(\"xpath\", '//*[@id=\"APjFqb\"]')\n",
    "search_box.clear()\n",
    "search_box.send_keys(\"난 나일 뿐이야 아무도 나를 대신할 수 없어\")\n",
    "search_button = driver.find_element(\"xpath\", '//*[@id=\"tsf\"]/div[1]/div[1]/div[2]/button')\n",
    "search_button.click()\n",
    "time.sleep(2)"
   ]
  },
  {
   "cell_type": "markdown",
   "metadata": {},
   "source": [
    "# 그래서 크롤링을 어떻게 하나요?"
   ]
  },
  {
   "cell_type": "code",
   "execution_count": 11,
   "metadata": {},
   "outputs": [],
   "source": [
    "url = \"https://www.naver.com/\"\n",
    "driver = webdriver.Chrome()\n",
    "driver.get(url)\n",
    "driver.implicitly_wait(3)"
   ]
  },
  {
   "cell_type": "code",
   "execution_count": 12,
   "metadata": {},
   "outputs": [],
   "source": [
    "search_box = driver.find_element(By.ID, \"query\")\n",
    "search_box.send_keys(\"LG 트윈스\")\n",
    "search_box.send_keys(Keys.RETURN)\n",
    "driver.implicitly_wait(2)"
   ]
  },
  {
   "cell_type": "code",
   "execution_count": 15,
   "metadata": {},
   "outputs": [],
   "source": [
    "driver.find_element(By.XPATH, '//*[@id=\"lnb\"]/div[1]/div/div[1]/div/div[1]/div[1]/a').click()\n",
    "driver.implicitly_wait(2)\n"
   ]
  },
  {
   "cell_type": "code",
   "execution_count": 18,
   "metadata": {},
   "outputs": [
    {
     "name": "stdout",
     "output_type": "stream",
     "text": [
      "LG트윈스, ‘2024 스프링캠프 기념상품’ 출시\n",
      "'챔피언' LG 트윈스, 내달 5일부터 '2024 연간회원' 모집\n",
      "LG 트윈스, '2024 연간회원' 모집\n",
      "LG 트윈스, 스프링캠프 기념상품 출시 예정\n",
      "LG 임찬규의 책임감 \"불펜에 신세…올해 선발이 많이 던져야\"\n",
      "인터뷰하는 LG 트윈스 박해민\n",
      "프로야구 KT위즈, LG 트윈스와 시범경기 개막전\n",
      "[포토]김민수-이종준, LG 트윈스에서 새 출발을!\n",
      "LG트윈스, 골든글러브 기념상품 출시\n",
      "LG트윈스, 롯데 김민수와 최대 3년+총액 9억에 계약\n"
     ]
    }
   ],
   "source": [
    "news_titles = driver.find_elements(By.CLASS_NAME, 'news_tit')\n",
    "for i in news_titles:\n",
    "    title = i.text\n",
    "    print(title)"
   ]
  },
  {
   "cell_type": "code",
   "execution_count": 19,
   "metadata": {},
   "outputs": [
    {
     "name": "stdout",
     "output_type": "stream",
     "text": [
      "https://vop.co.kr/A00001647013.html\n",
      "https://www.xportsnews.com/article/1819520\n",
      "http://www.stoo.com/article.php?aid=91527027671\n",
      "https://www.mhnse.com/news/articleView.html?idxno=252403\n",
      "http://www.newsis.com/view/?id=NISX20240130_0002610722&cID=10502&pID=10500\n",
      "https://www.yna.co.kr/view/PYH20240130154900007?input=1196m\n",
      "http://www.joongboo.com/news/articleView.html?idxno=363633495\n",
      "https://www.sportsseoul.com/news/read/1395107?ref=naver\n",
      "https://vop.co.kr/A00001646398.html\n",
      "https://www.stnsports.co.kr/news/articleView.html?idxno=211577\n"
     ]
    }
   ],
   "source": [
    "for i in news_titles:\n",
    "    href = i.get_attribute('href')\n",
    "    print(href)"
   ]
  },
  {
   "cell_type": "code",
   "execution_count": 23,
   "metadata": {},
   "outputs": [
    {
     "name": "stdout",
     "output_type": "stream",
     "text": [
      "https://search.pstatic.net/common/?src=https%3A%2F%2Fimgnews.pstatic.net%2Fimage%2Forigin%2F5683%2F2024%2F02%2F02%2F169802.jpg&type=ofullfill208_208_empty&expire=2&refresh=true\n"
     ]
    }
   ],
   "source": [
    "# 이미지 추출\n",
    "driver.execute_script(\"window.scrollTo(0, document.body.scrollHeight);\")\n",
    "time.sleep(2)\n",
    "news_contents = driver.find_elements(By.CLASS_NAME, \"news_contents\")\n",
    "thumbnail = []\n",
    "for i in news_contents:\n",
    "    try:\n",
    "        image = i.find_element(By.CLASS_NAME, 'thumb')\n",
    "        thumbnail.append(image)\n",
    "    except:\n",
    "        pass\n",
    "\n",
    "link_thumbnail = [img.get_attribute('src') for img in thumbnail]\n",
    "print(link_thumbnail[0])"
   ]
  }
 ],
 "metadata": {
  "kernelspec": {
   "display_name": "base",
   "language": "python",
   "name": "python3"
  },
  "language_info": {
   "codemirror_mode": {
    "name": "ipython",
    "version": 3
   },
   "file_extension": ".py",
   "mimetype": "text/x-python",
   "name": "python",
   "nbconvert_exporter": "python",
   "pygments_lexer": "ipython3",
   "version": "3.9.13"
  }
 },
 "nbformat": 4,
 "nbformat_minor": 2
}
